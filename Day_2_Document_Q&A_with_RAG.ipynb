{
  "metadata": {
    "kernelspec": {
      "name": "python3",
      "display_name": "Python 3",
      "language": "python"
    },
    "language_info": {
      "name": "python",
      "version": "3.10.12",
      "mimetype": "text/x-python",
      "codemirror_mode": {
        "name": "ipython",
        "version": 3
      },
      "pygments_lexer": "ipython3",
      "nbconvert_exporter": "python",
      "file_extension": ".py"
    },
    "colab": {
      "name": "Day 2 - Document Q&A with RAG",
      "provenance": [],
      "include_colab_link": true
    },
    "kaggle": {
      "accelerator": "none",
      "dataSources": [],
      "isInternetEnabled": false,
      "language": "python",
      "sourceType": "notebook",
      "isGpuEnabled": false
    }
  },
  "nbformat_minor": 0,
  "nbformat": 4,
  "cells": [
    {
      "cell_type": "markdown",
      "metadata": {
        "id": "view-in-github",
        "colab_type": "text"
      },
      "source": [
        "<a href=\"https://colab.research.google.com/github/quarmebrytejnr/DS_Learning/blob/main/Day_2_Document_Q%26A_with_RAG.ipynb\" target=\"_parent\"><img src=\"https://colab.research.google.com/assets/colab-badge.svg\" alt=\"Open In Colab\"/></a>"
      ]
    },
    {
      "cell_type": "markdown",
      "source": [
        "##### Copyright 2025 Google LLC."
      ],
      "metadata": {
        "id": "Tce3stUlHN0L"
      }
    },
    {
      "cell_type": "code",
      "source": [
        "# @title Licensed under the Apache License, Version 2.0 (the \"License\");\n",
        "# you may not use this file except in compliance with the License.\n",
        "# You may obtain a copy of the License at\n",
        "#\n",
        "# https://www.apache.org/licenses/LICENSE-2.0\n",
        "#\n",
        "# Unless required by applicable law or agreed to in writing, software\n",
        "# distributed under the License is distributed on an \"AS IS\" BASIS,\n",
        "# WITHOUT WARRANTIES OR CONDITIONS OF ANY KIND, either express or implied.\n",
        "# See the License for the specific language governing permissions and\n",
        "# limitations under the License."
      ],
      "metadata": {
        "cellView": "form",
        "id": "tuOe1ymfHZPu",
        "jupyter": {
          "source_hidden": true
        },
        "trusted": true,
        "execution": {
          "iopub.status.busy": "2025-03-31T10:16:36.651458Z",
          "iopub.execute_input": "2025-03-31T10:16:36.652127Z",
          "iopub.status.idle": "2025-03-31T10:16:36.658808Z",
          "shell.execute_reply.started": "2025-03-31T10:16:36.652068Z",
          "shell.execute_reply": "2025-03-31T10:16:36.657348Z"
        }
      },
      "outputs": [],
      "execution_count": null
    },
    {
      "cell_type": "markdown",
      "source": [
        "# Day 2 - Document Q&A with RAG using Chroma\n",
        "\n",
        "Welcome back to the Kaggle 5-day Generative AI course!\n",
        "\n",
        "**NOTE**: The Day 1 notebook contains lots of information for getting set up with Kaggle Notebooks. If you are having any issues, please [check out the troubleshooting steps there](https://www.kaggle.com/code/markishere/day-1-prompting#Get-started-with-Kaggle-notebooks).\n",
        "\n",
        "Two big limitations of LLMs are 1) that they only \"know\" the information that they were trained on, and 2) that they have limited input context windows. A way to address both of these limitations is to use a technique called Retrieval Augmented Generation, or RAG. A RAG system has three stages:\n",
        "\n",
        "1. Indexing\n",
        "2. Retrieval\n",
        "3. Generation\n",
        "\n",
        "Indexing happens ahead of time, and allows you to quickly look up relevant information at query-time. When a query comes in, you retrieve relevant documents, combine them with your instructions and the user's query, and have the LLM generate a tailored answer in natural language using the supplied information. This allows you to provide information that the model hasn't seen before, such as product-specific knowledge or live weather updates.\n",
        "\n",
        "In this notebook you will use the Gemini API to create a vector database, retrieve answers to questions from the database and generate a final answer. You will use [Chroma](https://docs.trychroma.com/), an open-source vector database. With Chroma, you can store embeddings alongside metadata, embed documents and queries, and search your documents.\n",
        "\n",
        "## For help\n",
        "\n",
        "**Common issues are covered in the [FAQ and troubleshooting guide](https://www.kaggle.com/code/markishere/day-0-troubleshooting-and-faqs).**\n"
      ],
      "metadata": {
        "id": "CsVPnR8VbXE6"
      }
    },
    {
      "cell_type": "markdown",
      "source": [
        "## Setup\n",
        "\n",
        "First, install ChromaDB and the Gemini API Python SDK."
      ],
      "metadata": {
        "id": "akuOzK4dJl3j"
      }
    },
    {
      "cell_type": "code",
      "source": [
        "!pip uninstall -qqy jupyterlab kfp  # Remove unused conflicting packages\n",
        "!pip install -qU \"google-genai==1.7.0\" \"chromadb==0.6.3\""
      ],
      "metadata": {
        "id": "JbXe7Oodc5dP",
        "trusted": true,
        "execution": {
          "iopub.status.busy": "2025-04-01T13:38:17.229411Z",
          "iopub.execute_input": "2025-04-01T13:38:17.229857Z",
          "execution_failed": "2025-04-01T13:42:01.608Z"
        },
        "outputId": "6fbac017-caf0-424b-deaf-47cf77a2f181",
        "colab": {
          "base_uri": "https://localhost:8080/"
        }
      },
      "outputs": [
        {
          "output_type": "stream",
          "name": "stdout",
          "text": [
            "\u001b[33mWARNING: Skipping jupyterlab as it is not installed.\u001b[0m\u001b[33m\n",
            "\u001b[0m\u001b[33mWARNING: Skipping kfp as it is not installed.\u001b[0m\u001b[33m\n",
            "\u001b[2K     \u001b[90m━━━━━━━━━━━━━━━━━━━━━━━━━━━━━━━━━━━━━━━━\u001b[0m \u001b[32m67.3/67.3 kB\u001b[0m \u001b[31m3.0 MB/s\u001b[0m eta \u001b[36m0:00:00\u001b[0m\n",
            "\u001b[?25h  Installing build dependencies ... \u001b[?25l\u001b[?25hdone\n",
            "  Getting requirements to build wheel ... \u001b[?25l\u001b[?25hdone\n",
            "  Preparing metadata (pyproject.toml) ... \u001b[?25l\u001b[?25hdone\n",
            "\u001b[2K   \u001b[90m━━━━━━━━━━━━━━━━━━━━━━━━━━━━━━━━━━━━━━━━\u001b[0m \u001b[32m144.7/144.7 kB\u001b[0m \u001b[31m5.9 MB/s\u001b[0m eta \u001b[36m0:00:00\u001b[0m\n",
            "\u001b[2K   \u001b[90m━━━━━━━━━━━━━━━━━━━━━━━━━━━━━━━━━━━━━━━━\u001b[0m \u001b[32m611.1/611.1 kB\u001b[0m \u001b[31m21.1 MB/s\u001b[0m eta \u001b[36m0:00:00\u001b[0m\n",
            "\u001b[2K   \u001b[90m━━━━━━━━━━━━━━━━━━━━━━━━━━━━━━━━━━━━━━━━\u001b[0m \u001b[32m2.4/2.4 MB\u001b[0m \u001b[31m47.1 MB/s\u001b[0m eta \u001b[36m0:00:00\u001b[0m\n",
            "\u001b[2K   \u001b[90m━━━━━━━━━━━━━━━━━━━━━━━━━━━━━━━━━━━━━━━━\u001b[0m \u001b[32m284.2/284.2 kB\u001b[0m \u001b[31m14.4 MB/s\u001b[0m eta \u001b[36m0:00:00\u001b[0m\n",
            "\u001b[2K   \u001b[90m━━━━━━━━━━━━━━━━━━━━━━━━━━━━━━━━━━━━━━━━\u001b[0m \u001b[32m95.2/95.2 kB\u001b[0m \u001b[31m5.5 MB/s\u001b[0m eta \u001b[36m0:00:00\u001b[0m\n",
            "\u001b[2K   \u001b[90m━━━━━━━━━━━━━━━━━━━━━━━━━━━━━━━━━━━━━━━━\u001b[0m \u001b[32m2.0/2.0 MB\u001b[0m \u001b[31m38.4 MB/s\u001b[0m eta \u001b[36m0:00:00\u001b[0m\n",
            "\u001b[2K   \u001b[90m━━━━━━━━━━━━━━━━━━━━━━━━━━━━━━━━━━━━━━━━\u001b[0m \u001b[32m101.6/101.6 kB\u001b[0m \u001b[31m7.0 MB/s\u001b[0m eta \u001b[36m0:00:00\u001b[0m\n",
            "\u001b[2K   \u001b[90m━━━━━━━━━━━━━━━━━━━━━━━━━━━━━━━━━━━━━━━━\u001b[0m \u001b[32m16.0/16.0 MB\u001b[0m \u001b[31m44.4 MB/s\u001b[0m eta \u001b[36m0:00:00\u001b[0m\n",
            "\u001b[2K   \u001b[90m━━━━━━━━━━━━━━━━━━━━━━━━━━━━━━━━━━━━━━━━\u001b[0m \u001b[32m55.9/55.9 kB\u001b[0m \u001b[31m3.0 MB/s\u001b[0m eta \u001b[36m0:00:00\u001b[0m\n",
            "\u001b[2K   \u001b[90m━━━━━━━━━━━━━━━━━━━━━━━━━━━━━━━━━━━━━━━━\u001b[0m \u001b[32m85.0/85.0 kB\u001b[0m \u001b[31m2.9 MB/s\u001b[0m eta \u001b[36m0:00:00\u001b[0m\n",
            "\u001b[2K   \u001b[90m━━━━━━━━━━━━━━━━━━━━━━━━━━━━━━━━━━━━━━━━\u001b[0m \u001b[32m62.3/62.3 kB\u001b[0m \u001b[31m2.3 MB/s\u001b[0m eta \u001b[36m0:00:00\u001b[0m\n",
            "\u001b[2K   \u001b[90m━━━━━━━━━━━━━━━━━━━━━━━━━━━━━━━━━━━━━━━━\u001b[0m \u001b[32m459.8/459.8 kB\u001b[0m \u001b[31m20.0 MB/s\u001b[0m eta \u001b[36m0:00:00\u001b[0m\n",
            "\u001b[2K   \u001b[90m━━━━━━━━━━━━━━━━━━━━━━━━━━━━━━━━━━━━━━━━\u001b[0m \u001b[32m72.0/72.0 kB\u001b[0m \u001b[31m4.0 MB/s\u001b[0m eta \u001b[36m0:00:00\u001b[0m\n",
            "\u001b[2K   \u001b[90m━━━━━━━━━━━━━━━━━━━━━━━━━━━━━━━━━━━━━━━━\u001b[0m \u001b[32m4.0/4.0 MB\u001b[0m \u001b[31m62.6 MB/s\u001b[0m eta \u001b[36m0:00:00\u001b[0m\n",
            "\u001b[2K   \u001b[90m━━━━━━━━━━━━━━━━━━━━━━━━━━━━━━━━━━━━━━━━\u001b[0m \u001b[32m452.6/452.6 kB\u001b[0m \u001b[31m20.7 MB/s\u001b[0m eta \u001b[36m0:00:00\u001b[0m\n",
            "\u001b[2K   \u001b[90m━━━━━━━━━━━━━━━━━━━━━━━━━━━━━━━━━━━━━━━━\u001b[0m \u001b[32m46.0/46.0 kB\u001b[0m \u001b[31m3.0 MB/s\u001b[0m eta \u001b[36m0:00:00\u001b[0m\n",
            "\u001b[2K   \u001b[90m━━━━━━━━━━━━━━━━━━━━━━━━━━━━━━━━━━━━━━━━\u001b[0m \u001b[32m86.8/86.8 kB\u001b[0m \u001b[31m5.4 MB/s\u001b[0m eta \u001b[36m0:00:00\u001b[0m\n",
            "\u001b[?25h  Building wheel for pypika (pyproject.toml) ... \u001b[?25l\u001b[?25hdone\n"
          ]
        }
      ],
      "execution_count": null
    },
    {
      "cell_type": "code",
      "source": [
        "# Install the required packages\n",
        "!pip install -q chromadb google-generativeai"
      ],
      "metadata": {
        "id": "HGng9ui5qJt2",
        "outputId": "f73d37a6-dcba-49b1-9028-093f6e12d814",
        "colab": {
          "base_uri": "https://localhost:8080/"
        }
      },
      "execution_count": 10,
      "outputs": [
        {
          "output_type": "stream",
          "name": "stdout",
          "text": [
            "\u001b[?25l     \u001b[90m━━━━━━━━━━━━━━━━━━━━━━━━━━━━━━━━━━━━━━━━\u001b[0m \u001b[32m0.0/67.3 kB\u001b[0m \u001b[31m?\u001b[0m eta \u001b[36m-:--:--\u001b[0m\r\u001b[2K     \u001b[90m━━━━━━━━━━━━━━━━━━━━━━━━━━━━━━━━━━━━━━━━\u001b[0m \u001b[32m67.3/67.3 kB\u001b[0m \u001b[31m3.2 MB/s\u001b[0m eta \u001b[36m0:00:00\u001b[0m\n",
            "\u001b[?25h  Installing build dependencies ... \u001b[?25l\u001b[?25hdone\n",
            "  Getting requirements to build wheel ... \u001b[?25l\u001b[?25hdone\n",
            "  Preparing metadata (pyproject.toml) ... \u001b[?25l\u001b[?25hdone\n",
            "\u001b[2K   \u001b[90m━━━━━━━━━━━━━━━━━━━━━━━━━━━━━━━━━━━━━━━━\u001b[0m \u001b[32m611.1/611.1 kB\u001b[0m \u001b[31m20.7 MB/s\u001b[0m eta \u001b[36m0:00:00\u001b[0m\n",
            "\u001b[2K   \u001b[90m━━━━━━━━━━━━━━━━━━━━━━━━━━━━━━━━━━━━━━━━\u001b[0m \u001b[32m2.4/2.4 MB\u001b[0m \u001b[31m61.5 MB/s\u001b[0m eta \u001b[36m0:00:00\u001b[0m\n",
            "\u001b[2K   \u001b[90m━━━━━━━━━━━━━━━━━━━━━━━━━━━━━━━━━━━━━━━━\u001b[0m \u001b[32m284.2/284.2 kB\u001b[0m \u001b[31m18.1 MB/s\u001b[0m eta \u001b[36m0:00:00\u001b[0m\n",
            "\u001b[2K   \u001b[90m━━━━━━━━━━━━━━━━━━━━━━━━━━━━━━━━━━━━━━━━\u001b[0m \u001b[32m95.2/95.2 kB\u001b[0m \u001b[31m6.0 MB/s\u001b[0m eta \u001b[36m0:00:00\u001b[0m\n",
            "\u001b[2K   \u001b[90m━━━━━━━━━━━━━━━━━━━━━━━━━━━━━━━━━━━━━━━━\u001b[0m \u001b[32m2.0/2.0 MB\u001b[0m \u001b[31m42.1 MB/s\u001b[0m eta \u001b[36m0:00:00\u001b[0m\n",
            "\u001b[2K   \u001b[90m━━━━━━━━━━━━━━━━━━━━━━━━━━━━━━━━━━━━━━━━\u001b[0m \u001b[32m101.6/101.6 kB\u001b[0m \u001b[31m6.6 MB/s\u001b[0m eta \u001b[36m0:00:00\u001b[0m\n",
            "\u001b[2K   \u001b[90m━━━━━━━━━━━━━━━━━━━━━━━━━━━━━━━━━━━━━━━━\u001b[0m \u001b[32m16.0/16.0 MB\u001b[0m \u001b[31m50.6 MB/s\u001b[0m eta \u001b[36m0:00:00\u001b[0m\n",
            "\u001b[2K   \u001b[90m━━━━━━━━━━━━━━━━━━━━━━━━━━━━━━━━━━━━━━━━\u001b[0m \u001b[32m55.9/55.9 kB\u001b[0m \u001b[31m3.7 MB/s\u001b[0m eta \u001b[36m0:00:00\u001b[0m\n",
            "\u001b[2K   \u001b[90m━━━━━━━━━━━━━━━━━━━━━━━━━━━━━━━━━━━━━━━━\u001b[0m \u001b[32m85.0/85.0 kB\u001b[0m \u001b[31m6.3 MB/s\u001b[0m eta \u001b[36m0:00:00\u001b[0m\n",
            "\u001b[2K   \u001b[90m━━━━━━━━━━━━━━━━━━━━━━━━━━━━━━━━━━━━━━━━\u001b[0m \u001b[32m62.3/62.3 kB\u001b[0m \u001b[31m4.3 MB/s\u001b[0m eta \u001b[36m0:00:00\u001b[0m\n",
            "\u001b[2K   \u001b[90m━━━━━━━━━━━━━━━━━━━━━━━━━━━━━━━━━━━━━━━━\u001b[0m \u001b[32m459.8/459.8 kB\u001b[0m \u001b[31m26.5 MB/s\u001b[0m eta \u001b[36m0:00:00\u001b[0m\n",
            "\u001b[2K   \u001b[90m━━━━━━━━━━━━━━━━━━━━━━━━━━━━━━━━━━━━━━━━\u001b[0m \u001b[32m72.0/72.0 kB\u001b[0m \u001b[31m5.3 MB/s\u001b[0m eta \u001b[36m0:00:00\u001b[0m\n",
            "\u001b[2K   \u001b[90m━━━━━━━━━━━━━━━━━━━━━━━━━━━━━━━━━━━━━━━━\u001b[0m \u001b[32m4.0/4.0 MB\u001b[0m \u001b[31m67.6 MB/s\u001b[0m eta \u001b[36m0:00:00\u001b[0m\n",
            "\u001b[2K   \u001b[90m━━━━━━━━━━━━━━━━━━━━━━━━━━━━━━━━━━━━━━━━\u001b[0m \u001b[32m452.6/452.6 kB\u001b[0m \u001b[31m27.7 MB/s\u001b[0m eta \u001b[36m0:00:00\u001b[0m\n",
            "\u001b[2K   \u001b[90m━━━━━━━━━━━━━━━━━━━━━━━━━━━━━━━━━━━━━━━━\u001b[0m \u001b[32m46.0/46.0 kB\u001b[0m \u001b[31m3.2 MB/s\u001b[0m eta \u001b[36m0:00:00\u001b[0m\n",
            "\u001b[2K   \u001b[90m━━━━━━━━━━━━━━━━━━━━━━━━━━━━━━━━━━━━━━━━\u001b[0m \u001b[32m86.8/86.8 kB\u001b[0m \u001b[31m5.9 MB/s\u001b[0m eta \u001b[36m0:00:00\u001b[0m\n",
            "\u001b[?25h  Building wheel for pypika (pyproject.toml) ... \u001b[?25l\u001b[?25hdone\n"
          ]
        }
      ]
    },
    {
      "cell_type": "code",
      "source": [
        "from google import genai\n",
        "from google.genai import types\n",
        "\n",
        "from IPython.display import Markdown\n",
        "\n",
        "genai.__version__"
      ],
      "metadata": {
        "id": "muuhsDmmKdHi",
        "trusted": true,
        "execution": {
          "iopub.status.busy": "2025-04-01T13:42:20.093804Z",
          "iopub.execute_input": "2025-04-01T13:42:20.094085Z",
          "iopub.status.idle": "2025-04-01T13:42:21.554119Z",
          "shell.execute_reply.started": "2025-04-01T13:42:20.094056Z",
          "shell.execute_reply": "2025-04-01T13:42:21.552995Z"
        },
        "outputId": "988792f9-b3c6-445c-de21-0de3a05da9f0",
        "colab": {
          "base_uri": "https://localhost:8080/",
          "height": 35
        }
      },
      "outputs": [
        {
          "output_type": "execute_result",
          "data": {
            "text/plain": [
              "'1.8.0'"
            ],
            "application/vnd.google.colaboratory.intrinsic+json": {
              "type": "string"
            }
          },
          "metadata": {},
          "execution_count": 1
        }
      ],
      "execution_count": 1
    },
    {
      "cell_type": "markdown",
      "source": [
        "### Set up your API key\n",
        "\n",
        "To run the following cell, your API key must be stored it in a [Kaggle secret](https://www.kaggle.com/discussions/product-feedback/114053) named `GOOGLE_API_KEY`.\n",
        "\n",
        "If you don't already have an API key, you can grab one from [AI Studio](https://aistudio.google.com/app/apikey). You can find [detailed instructions in the docs](https://ai.google.dev/gemini-api/docs/api-key).\n",
        "\n",
        "To make the key available through Kaggle secrets, choose `Secrets` from the `Add-ons` menu and follow the instructions to add your key or enable it for this notebook."
      ],
      "metadata": {
        "id": "FQOGMejVu-6D"
      }
    },
    {
      "cell_type": "code",
      "source": [
        "import os\n",
        "from google.colab import userdata\n",
        "\n",
        "# Retrieve the API key securely\n",
        "GOOGLE_API_KEY = userdata.get('GOOGLE_API_KEY')\n"
      ],
      "metadata": {
        "id": "ysayz8skEfBW",
        "trusted": true,
        "execution": {
          "iopub.status.busy": "2025-04-01T13:43:03.767512Z",
          "iopub.execute_input": "2025-04-01T13:43:03.767915Z",
          "iopub.status.idle": "2025-04-01T13:43:35.801708Z",
          "shell.execute_reply.started": "2025-04-01T13:43:03.767887Z",
          "shell.execute_reply": "2025-04-01T13:43:35.800103Z"
        }
      },
      "outputs": [],
      "execution_count": 6
    },
    {
      "cell_type": "markdown",
      "source": [
        "If you received an error response along the lines of `No user secrets exist for kernel id ...`, then you need to add your API key via `Add-ons`, `Secrets` **and** enable it.\n",
        "\n",
        "![Screenshot of the checkbox to enable GOOGLE_API_KEY secret](https://storage.googleapis.com/kaggle-media/Images/5gdai_sc_3.png)"
      ],
      "metadata": {
        "id": "52b101760a45"
      }
    },
    {
      "cell_type": "markdown",
      "source": [
        "### Explore available models\n",
        "\n",
        "You will be using the [`embedContent`](https://ai.google.dev/api/embeddings#method:-models.embedcontent) API method to calculate embeddings in this guide. Find a model that supports it through the [`models.list`](https://ai.google.dev/api/models#method:-models.list) endpoint. You can also find more information about the embedding models on [the models page](https://ai.google.dev/gemini-api/docs/models/gemini#text-embedding).\n",
        "\n",
        "`text-embedding-004` is the most recent generally-available embedding model, so you will use it for this exercise, but try out the experimental `gemini-embedding-exp-03-07` model too."
      ],
      "metadata": {
        "id": "fegnGFpMS4AI"
      }
    },
    {
      "cell_type": "code",
      "source": [
        "client = genai.Client(api_key=GOOGLE_API_KEY)\n",
        "\n",
        "for m in client.models.list():\n",
        "    if \"embedContent\" in m.supported_actions:\n",
        "        print(m.name)"
      ],
      "metadata": {
        "id": "Km5d13_FS2Q_",
        "trusted": true,
        "execution": {
          "iopub.status.busy": "2025-03-31T10:16:50.120293Z",
          "iopub.execute_input": "2025-03-31T10:16:50.120623Z",
          "iopub.status.idle": "2025-03-31T10:16:50.227307Z",
          "shell.execute_reply.started": "2025-03-31T10:16:50.120592Z",
          "shell.execute_reply": "2025-03-31T10:16:50.225849Z"
        },
        "outputId": "d882c573-2e1d-41e3-c6ca-f7eba099c243",
        "colab": {
          "base_uri": "https://localhost:8080/"
        }
      },
      "outputs": [
        {
          "output_type": "stream",
          "name": "stdout",
          "text": [
            "models/embedding-001\n",
            "models/text-embedding-004\n",
            "models/gemini-embedding-exp-03-07\n",
            "models/gemini-embedding-exp\n"
          ]
        }
      ],
      "execution_count": 7
    },
    {
      "cell_type": "markdown",
      "source": [
        "### Data\n",
        "\n",
        "Here is a small set of documents you will use to create an embedding database."
      ],
      "metadata": {
        "id": "3XWKXoXwOGxS"
      }
    },
    {
      "cell_type": "code",
      "source": [
        "DOCUMENT1 = \"Operating the Climate Control System  Your Googlecar has a climate control system that allows you to adjust the temperature and airflow in the car. To operate the climate control system, use the buttons and knobs located on the center console.  Temperature: The temperature knob controls the temperature inside the car. Turn the knob clockwise to increase the temperature or counterclockwise to decrease the temperature. Airflow: The airflow knob controls the amount of airflow inside the car. Turn the knob clockwise to increase the airflow or counterclockwise to decrease the airflow. Fan speed: The fan speed knob controls the speed of the fan. Turn the knob clockwise to increase the fan speed or counterclockwise to decrease the fan speed. Mode: The mode button allows you to select the desired mode. The available modes are: Auto: The car will automatically adjust the temperature and airflow to maintain a comfortable level. Cool: The car will blow cool air into the car. Heat: The car will blow warm air into the car. Defrost: The car will blow warm air onto the windshield to defrost it.\"\n",
        "DOCUMENT2 = 'Your Googlecar has a large touchscreen display that provides access to a variety of features, including navigation, entertainment, and climate control. To use the touchscreen display, simply touch the desired icon.  For example, you can touch the \"Navigation\" icon to get directions to your destination or touch the \"Music\" icon to play your favorite songs.'\n",
        "DOCUMENT3 = \"Shifting Gears Your Googlecar has an automatic transmission. To shift gears, simply move the shift lever to the desired position.  Park: This position is used when you are parked. The wheels are locked and the car cannot move. Reverse: This position is used to back up. Neutral: This position is used when you are stopped at a light or in traffic. The car is not in gear and will not move unless you press the gas pedal. Drive: This position is used to drive forward. Low: This position is used for driving in snow or other slippery conditions.\"\n",
        "\n",
        "documents = [DOCUMENT1, DOCUMENT2, DOCUMENT3]"
      ],
      "metadata": {
        "id": "k8nsbhFJKmG-",
        "trusted": true,
        "execution": {
          "iopub.status.busy": "2025-03-31T10:16:50.22879Z",
          "iopub.execute_input": "2025-03-31T10:16:50.229159Z",
          "iopub.status.idle": "2025-03-31T10:16:50.236403Z",
          "shell.execute_reply.started": "2025-03-31T10:16:50.229123Z",
          "shell.execute_reply": "2025-03-31T10:16:50.234812Z"
        }
      },
      "outputs": [],
      "execution_count": 8
    },
    {
      "cell_type": "markdown",
      "source": [],
      "metadata": {
        "id": "dFMokkqS036b"
      }
    },
    {
      "cell_type": "markdown",
      "source": [
        "## Creating the embedding database with ChromaDB\n",
        "\n",
        "Create a [custom function](https://docs.trychroma.com/guides/embeddings#custom-embedding-functions) to generate embeddings with the Gemini API. In this task, you are implementing a retrieval system, so the `task_type` for generating the *document* embeddings is `retrieval_document`. Later, you will use `retrieval_query` for the *query* embeddings. Check out the [API reference](https://ai.google.dev/api/embeddings#v1beta.TaskType) for the full list of supported tasks.\n",
        "\n",
        "Key words: Documents are the items that are in the database. They are inserted first, and later retrieved. Queries are the textual search terms and can be simple keywords or textual descriptions of the desired documents."
      ],
      "metadata": {
        "id": "yDzxArLeOexD"
      }
    },
    {
      "cell_type": "code",
      "source": [
        "from chromadb import Documents, EmbeddingFunction, Embeddings\n",
        "from google.api_core import retry\n",
        "\n",
        "from google.genai import types\n",
        "\n",
        "\n",
        "# Define a helper to retry when per-minute quota is reached.\n",
        "is_retriable = lambda e: (isinstance(e, genai.errors.APIError) and e.code in {429, 503})\n",
        "\n",
        "\n",
        "class GeminiEmbeddingFunction(EmbeddingFunction):\n",
        "    # Specify whether to generate embeddings for documents, or queries\n",
        "    document_mode = True\n",
        "\n",
        "    @retry.Retry(predicate=is_retriable)\n",
        "    def __call__(self, input: Documents) -> Embeddings:\n",
        "        if self.document_mode:\n",
        "            embedding_task = \"retrieval_document\"\n",
        "        else:\n",
        "            embedding_task = \"retrieval_query\"\n",
        "\n",
        "        response = client.models.embed_content(\n",
        "            model=\"models/text-embedding-004\",\n",
        "            contents=input,\n",
        "            config=types.EmbedContentConfig(\n",
        "                task_type=embedding_task,\n",
        "            ),\n",
        "        )\n",
        "        return [e.values for e in response.embeddings]"
      ],
      "metadata": {
        "id": "mF7Uu1kCQsT0",
        "trusted": true,
        "execution": {
          "iopub.status.busy": "2025-03-31T10:16:50.238448Z",
          "iopub.execute_input": "2025-03-31T10:16:50.239046Z",
          "iopub.status.idle": "2025-03-31T10:16:50.251166Z",
          "shell.execute_reply.started": "2025-03-31T10:16:50.238957Z",
          "shell.execute_reply": "2025-03-31T10:16:50.250044Z"
        }
      },
      "outputs": [],
      "execution_count": 11
    },
    {
      "cell_type": "markdown",
      "source": [
        "Now create a [Chroma database client](https://docs.trychroma.com/getting-started) that uses the `GeminiEmbeddingFunction` and populate the database with the documents you defined above."
      ],
      "metadata": {
        "id": "HrDWLyopPNBf"
      }
    },
    {
      "cell_type": "code",
      "source": [
        "import chromadb\n",
        "\n",
        "DB_NAME = \"googlecardb\"\n",
        "\n",
        "embed_fn = GeminiEmbeddingFunction()\n",
        "embed_fn.document_mode = True\n",
        "\n",
        "chroma_client = chromadb.Client()\n",
        "db = chroma_client.get_or_create_collection(name=DB_NAME, embedding_function=embed_fn)\n",
        "\n",
        "db.add(documents=documents, ids=[str(i) for i in range(len(documents))])"
      ],
      "metadata": {
        "id": "OITXgxZlLoXU",
        "trusted": true,
        "execution": {
          "iopub.status.busy": "2025-03-31T10:16:50.252971Z",
          "iopub.execute_input": "2025-03-31T10:16:50.253935Z",
          "iopub.status.idle": "2025-03-31T10:16:50.502306Z",
          "shell.execute_reply.started": "2025-03-31T10:16:50.253884Z",
          "shell.execute_reply": "2025-03-31T10:16:50.501198Z"
        }
      },
      "outputs": [],
      "execution_count": 12
    },
    {
      "cell_type": "markdown",
      "source": [
        "Confirm that the data was inserted by looking at the database."
      ],
      "metadata": {
        "id": "2QbwFgfXp-fL"
      }
    },
    {
      "cell_type": "code",
      "source": [
        "db.peek(1)\n",
        "# You can peek at the data too.\n",
        "# db.peek(1)"
      ],
      "metadata": {
        "id": "kQ9PHUL_l-hf",
        "trusted": true,
        "execution": {
          "iopub.status.busy": "2025-03-31T10:16:50.503897Z",
          "iopub.execute_input": "2025-03-31T10:16:50.504826Z",
          "iopub.status.idle": "2025-03-31T10:16:50.516278Z",
          "shell.execute_reply.started": "2025-03-31T10:16:50.504775Z",
          "shell.execute_reply": "2025-03-31T10:16:50.514808Z"
        },
        "outputId": "56140398-7f45-48f9-aef0-e2be41d45072",
        "colab": {
          "base_uri": "https://localhost:8080/"
        }
      },
      "outputs": [
        {
          "output_type": "execute_result",
          "data": {
            "text/plain": [
              "{'ids': ['0'],\n",
              " 'embeddings': array([[ 1.89996641e-02,  7.50530604e-03, -2.69203484e-02,\n",
              "         -9.78849642e-03, -8.69853329e-03, -1.27060898e-02,\n",
              "          2.98559777e-02,  6.81265350e-03, -5.14574721e-03,\n",
              "          3.52885611e-02, -8.06997046e-02,  7.53531009e-02,\n",
              "          8.58849138e-02,  1.30070690e-02, -2.77891336e-03,\n",
              "         -1.05936602e-01, -3.98958661e-03, -7.90926255e-03,\n",
              "         -6.78334385e-02,  9.37942939e-04, -3.31661627e-02,\n",
              "          2.91897804e-02, -4.37331311e-02, -2.03247666e-02,\n",
              "         -4.03934792e-02, -4.03673872e-02,  4.37083244e-02,\n",
              "          4.35296260e-02, -5.30568957e-02, -7.60380086e-03,\n",
              "          1.10596254e-01,  2.93870177e-02, -2.69055367e-03,\n",
              "         -2.77709514e-02,  3.56521569e-02,  8.06248095e-03,\n",
              "         -6.98892726e-03, -4.19588238e-02, -1.22357225e-02,\n",
              "         -7.43979216e-02, -8.68393779e-02,  1.45487059e-02,\n",
              "          1.64316818e-02,  4.95274737e-02,  5.96513413e-03,\n",
              "         -3.29070538e-02, -4.59746048e-02,  6.05700687e-02,\n",
              "          3.69714126e-02, -3.67843956e-02,  3.23379971e-02,\n",
              "          5.57416072e-03, -2.60148998e-02,  3.72896157e-02,\n",
              "          1.09929522e-03,  2.22460013e-02, -3.41857560e-02,\n",
              "         -1.33831445e-02,  3.84481438e-02,  1.01510370e-02,\n",
              "         -4.13358212e-02,  1.50308516e-02, -4.16338220e-02,\n",
              "          2.77164355e-02,  1.77828148e-02, -5.60168698e-02,\n",
              "         -1.28984069e-02, -4.63326536e-02, -4.68938565e-03,\n",
              "         -1.61614176e-02,  4.64589000e-02,  4.97067757e-02,\n",
              "         -1.76815037e-02,  2.75055915e-02, -4.77083847e-02,\n",
              "         -3.02048232e-02, -3.58368531e-02, -1.49208391e-02,\n",
              "          1.64871980e-02,  5.08249328e-02, -2.80048344e-02,\n",
              "          6.99736923e-02,  5.95696792e-02,  3.21656168e-02,\n",
              "         -9.67071112e-03, -2.01593228e-02,  6.69856966e-02,\n",
              "          1.51496977e-02, -7.96246305e-02, -4.13303310e-03,\n",
              "          7.46189281e-02,  6.72254059e-03, -1.84513796e-02,\n",
              "          2.87920292e-02,  7.01305121e-02,  1.55893695e-02,\n",
              "         -1.16371922e-01, -7.99548775e-02,  5.50818779e-02,\n",
              "          7.43377358e-02,  2.68951990e-02,  5.65322861e-02,\n",
              "         -1.09314676e-02, -4.97194529e-02,  2.15398204e-02,\n",
              "          2.49629170e-02,  9.70174186e-03, -2.00729957e-03,\n",
              "         -5.23507595e-02,  5.45086190e-02,  2.20851172e-02,\n",
              "         -5.07799238e-02,  1.51937539e-02,  3.40860412e-02,\n",
              "          2.94148624e-02, -2.27203965e-02, -4.44913059e-02,\n",
              "          4.19270061e-02,  1.33883394e-02, -8.03010166e-03,\n",
              "         -3.02138049e-02, -1.52768716e-02, -1.79337766e-02,\n",
              "          4.12679724e-02,  4.28794511e-02,  1.86120179e-02,\n",
              "          6.62900433e-02,  1.68055836e-02, -7.44678685e-03,\n",
              "         -7.88552612e-02, -1.01826247e-03, -5.30414023e-02,\n",
              "         -1.77297127e-02,  4.33610976e-02, -2.87686586e-02,\n",
              "          4.37279977e-02,  6.51901439e-02,  1.42448116e-02,\n",
              "          3.04472726e-02, -1.51222004e-02,  9.45043378e-03,\n",
              "         -1.39130075e-02, -7.50348866e-02,  7.15902681e-03,\n",
              "         -2.02401206e-02,  1.58404314e-03,  2.50295680e-02,\n",
              "         -2.19853669e-02, -5.25463633e-02,  2.95491908e-02,\n",
              "          2.80410163e-02,  1.59156360e-02,  4.83962148e-03,\n",
              "          3.42256613e-02,  2.61947587e-02, -1.79085378e-02,\n",
              "         -9.59200598e-03, -1.30515965e-02,  5.45655526e-02,\n",
              "          4.18885499e-02,  1.15598358e-01, -2.15165876e-02,\n",
              "          1.55694981e-03,  4.04374786e-02, -4.02314290e-02,\n",
              "          7.93419555e-02, -6.48735513e-05, -4.36600596e-02,\n",
              "         -1.67760327e-02, -5.54723442e-02, -1.18653001e-02,\n",
              "         -5.03605045e-02,  2.53493730e-02, -7.12577999e-02,\n",
              "          9.61738545e-03, -8.39261059e-03, -2.53669359e-02,\n",
              "         -3.75324562e-02, -2.25138683e-02,  2.07773894e-02,\n",
              "          9.74554345e-02, -3.56078707e-02, -9.07747075e-03,\n",
              "         -3.51976268e-02,  5.00649167e-03,  8.92841443e-03,\n",
              "         -2.23056767e-02,  1.60871912e-02,  4.47834916e-02,\n",
              "          1.94993690e-02,  4.22408767e-02,  4.36633378e-02,\n",
              "          4.17801514e-02,  6.61993539e-03,  3.28581221e-03,\n",
              "          1.34587772e-02,  4.60674651e-02, -5.68813039e-03,\n",
              "          2.91601587e-02, -3.89970653e-02,  2.51733679e-02,\n",
              "          2.41864398e-02, -2.06118114e-02, -8.49481300e-03,\n",
              "         -7.96157196e-02,  3.14108934e-03, -3.03156907e-04,\n",
              "         -7.82509372e-02, -5.01308031e-03,  5.65630989e-03,\n",
              "          1.24495151e-02, -1.11163808e-02, -2.71381363e-02,\n",
              "         -2.70434972e-02, -6.62122518e-02,  1.71623491e-02,\n",
              "          1.83970556e-02, -3.10235117e-02,  2.75832936e-02,\n",
              "         -3.41743082e-02,  7.28364475e-03, -5.92893362e-02,\n",
              "          1.31034762e-01,  2.93862680e-03,  3.27316076e-02,\n",
              "          2.23102737e-02, -4.07483578e-02,  1.35542676e-02,\n",
              "         -4.49327976e-02, -6.06717588e-03, -3.24808666e-03,\n",
              "          2.87276991e-02, -2.08841208e-02,  3.97731829e-03,\n",
              "         -7.79294968e-03,  4.93008830e-02,  4.95140441e-02,\n",
              "         -3.70474011e-02,  3.40877101e-02,  7.44339498e-03,\n",
              "          2.74706036e-02,  4.58842888e-02,  4.23083864e-02,\n",
              "          2.34148689e-02,  1.48451021e-02, -2.37723533e-02,\n",
              "          6.47631735e-02,  1.57277603e-02, -4.26457748e-02,\n",
              "         -8.36548060e-02, -3.28711458e-02, -3.68208289e-02,\n",
              "         -2.07035076e-02,  4.69575636e-03, -3.04315165e-02,\n",
              "         -2.19081286e-02, -3.13257449e-03,  3.33950296e-02,\n",
              "          3.21173221e-02, -1.72844790e-02,  3.07742245e-02,\n",
              "          3.91557366e-02, -3.57035585e-02,  5.66983642e-03,\n",
              "          1.98001713e-02, -1.09939367e-01, -3.80607173e-02,\n",
              "          9.85682476e-03, -5.44885881e-02, -2.41438188e-02,\n",
              "          2.44294759e-02,  1.77268439e-03,  2.96395691e-03,\n",
              "         -2.12335661e-02, -1.25241298e-02,  1.70172658e-02,\n",
              "         -6.21883534e-02, -1.07621728e-02, -5.09412214e-03,\n",
              "         -1.35658048e-02,  3.85766551e-02,  5.11570498e-02,\n",
              "          2.18521468e-02, -4.14995439e-02,  3.34418379e-02,\n",
              "         -3.93004157e-02,  6.15507318e-03,  3.12885921e-03,\n",
              "         -6.00040518e-02,  1.04700611e-03,  3.84333506e-02,\n",
              "         -1.19297365e-02, -3.65912318e-02, -4.38246727e-02,\n",
              "          5.30170575e-02, -9.58478730e-03,  4.97351848e-02,\n",
              "          1.51532618e-02,  1.89138837e-02, -4.18482982e-02,\n",
              "          1.52532328e-02,  4.77849133e-02,  6.88652974e-03,\n",
              "          2.96370517e-02,  4.28295061e-02, -4.20004539e-02,\n",
              "          5.03814965e-03, -2.89589725e-02, -9.47450101e-03,\n",
              "         -7.19804608e-04, -2.04819646e-02,  1.71097741e-02,\n",
              "         -1.69946812e-02, -1.51602775e-02,  1.40648400e-02,\n",
              "          4.33577523e-02, -1.28116727e-01,  1.96245406e-02,\n",
              "         -9.79382778e-04, -1.49972932e-02,  3.11941318e-02,\n",
              "         -3.98269072e-02, -3.17095779e-02, -1.03539908e-02,\n",
              "          2.90332790e-02,  1.71464738e-02, -2.18943600e-02,\n",
              "         -1.20792107e-03,  2.02216711e-02, -5.82920201e-02,\n",
              "          8.70636450e-06, -2.70486567e-02, -8.37526023e-02,\n",
              "         -3.73691204e-03, -7.00314045e-02,  3.47714312e-02,\n",
              "         -1.65883601e-02,  3.71062458e-02,  8.21944419e-03,\n",
              "          3.54773812e-02,  1.61994863e-02,  7.05077574e-02,\n",
              "          8.83539952e-03,  2.18494236e-02, -5.50299250e-02,\n",
              "          1.19913522e-04,  3.50320153e-02,  4.99191508e-02,\n",
              "          2.08908767e-02, -1.21140964e-02,  3.34130600e-02,\n",
              "          3.32010910e-02,  4.11024615e-02,  1.52024766e-02,\n",
              "         -2.07796833e-03, -4.94461246e-02,  5.46362549e-02,\n",
              "         -1.91538725e-02,  4.89460416e-02, -3.06148790e-02,\n",
              "         -1.46947559e-02,  2.59972401e-02,  1.89346366e-03,\n",
              "         -8.85396544e-03,  1.43837566e-02, -2.83453707e-02,\n",
              "          2.60757376e-02, -7.98581075e-03,  1.98935997e-02,\n",
              "          1.55275883e-02, -8.87474231e-03,  2.31279954e-02,\n",
              "          3.03729586e-02,  2.14788988e-02,  3.26980092e-03,\n",
              "          3.87281664e-02, -1.32220760e-02,  1.12496624e-02,\n",
              "         -5.03361458e-03, -4.75973040e-02, -1.78676229e-02,\n",
              "         -5.71023077e-02,  3.11246980e-02, -5.31051680e-03,\n",
              "          1.57550387e-02,  5.20151109e-02, -5.72069474e-02,\n",
              "          5.15301060e-03,  3.29970457e-02,  2.26406157e-02,\n",
              "         -3.07078045e-02,  1.87925640e-02, -1.86993480e-02,\n",
              "          2.33180430e-02, -1.82738602e-02, -2.46863026e-04,\n",
              "         -8.52621868e-02,  2.53148209e-02,  2.06176797e-03,\n",
              "         -3.89578417e-02, -2.23115413e-03, -4.10256907e-02,\n",
              "          4.55508120e-02, -7.24424720e-02,  5.08268876e-03,\n",
              "          4.42190096e-02,  1.73661846e-03,  1.63513031e-02,\n",
              "          9.09441058e-03,  1.04114031e-02, -4.86889202e-03,\n",
              "         -2.63646524e-02,  7.87991844e-03,  8.30337685e-03,\n",
              "         -1.01753809e-02, -2.47611739e-02,  6.67762756e-02,\n",
              "          4.89272997e-02,  2.38461569e-02, -6.42249808e-02,\n",
              "          8.06081109e-03,  4.79382835e-02,  6.00473769e-02,\n",
              "          2.56416928e-02, -1.06949676e-02, -3.17716524e-02,\n",
              "         -3.00298259e-02,  3.23185213e-02, -1.56965274e-02,\n",
              "          3.98179255e-02,  1.11237010e-02,  3.77057530e-02,\n",
              "         -5.90020716e-02,  6.65883161e-03,  1.55508593e-02,\n",
              "         -3.98168378e-02, -2.19614618e-03, -3.17364447e-02,\n",
              "          9.28087812e-03, -1.57921314e-02, -3.60821970e-02,\n",
              "          2.23480631e-02,  7.26326481e-02,  8.54933541e-03,\n",
              "         -1.96508467e-02,  4.01913226e-02, -3.06365900e-02,\n",
              "         -1.96762756e-02, -3.83199602e-02,  1.48206614e-02,\n",
              "         -2.02410016e-02, -1.89087112e-02,  3.50414440e-02,\n",
              "          3.49851511e-02, -1.53734237e-02, -8.05087294e-03,\n",
              "         -7.98325636e-04,  5.38129210e-02,  4.28347513e-02,\n",
              "         -2.33207271e-02,  1.76745448e-02, -3.91262732e-02,\n",
              "          2.53158361e-02, -5.43349935e-03,  3.27506177e-02,\n",
              "          1.16547355e-02,  2.72344295e-02, -4.21163514e-02,\n",
              "          1.98197179e-02, -3.02518159e-02,  6.00851811e-02,\n",
              "         -3.92581001e-02,  5.69727384e-02,  4.16435599e-02,\n",
              "         -5.45447841e-02, -8.62797443e-03,  5.73354736e-02,\n",
              "         -8.94314330e-03, -3.72394882e-02,  4.12784889e-03,\n",
              "         -1.29805785e-02,  5.85994422e-02,  4.10515368e-02,\n",
              "         -7.88140856e-03,  6.91415817e-02,  1.82892084e-02,\n",
              "         -7.59132132e-02,  3.91482785e-02,  1.00310231e-02,\n",
              "          2.27377769e-02,  3.80710373e-03,  2.31498890e-02,\n",
              "          2.42068712e-02, -1.37068238e-02, -5.82525041e-03,\n",
              "          1.76540092e-02,  5.13952859e-02, -4.77824695e-02,\n",
              "         -5.54873943e-02,  1.18202306e-02,  6.27043992e-02,\n",
              "          1.87041499e-02, -6.80633560e-02, -4.02098186e-02,\n",
              "         -1.18157398e-02,  3.17377560e-02, -4.04558517e-02,\n",
              "         -2.29886267e-02,  1.09081238e-05,  7.27420002e-02,\n",
              "         -1.16472011e-02, -2.37533189e-02, -3.38588320e-02,\n",
              "         -2.19844095e-02, -6.56050304e-03, -1.48762893e-02,\n",
              "         -4.41998839e-02,  5.02602272e-02,  3.84675451e-02,\n",
              "          1.98185090e-02, -6.06090948e-02,  2.10781377e-02,\n",
              "          4.61731991e-03,  4.19402868e-02, -5.42518981e-02,\n",
              "          2.91183051e-02,  4.73365746e-02,  1.81997810e-02,\n",
              "          1.52857509e-02, -2.08034776e-02, -5.36849052e-02,\n",
              "          6.35842606e-02,  2.73762550e-02,  4.96339686e-02,\n",
              "          3.09747737e-02,  1.01277744e-02, -3.44962217e-02,\n",
              "          4.85864840e-02,  1.51261436e-02,  1.49459867e-02,\n",
              "          4.13929597e-02, -3.76431942e-02,  1.56074986e-02,\n",
              "          1.15082236e-02,  2.90358942e-02,  2.45141797e-02,\n",
              "          2.80922279e-02, -1.28367553e-02,  3.14410753e-03,\n",
              "          6.41218573e-02, -2.22793669e-02, -5.03757261e-02,\n",
              "          4.78862412e-02,  3.36291753e-02, -5.38712293e-02,\n",
              "         -8.94516893e-03,  2.78146621e-02, -1.16451690e-02,\n",
              "         -5.78200072e-03,  1.86787676e-02,  9.93121322e-03,\n",
              "         -2.65693059e-03, -1.70143209e-02, -1.55063514e-02,\n",
              "          2.41588745e-02, -1.78989361e-03,  6.64451048e-02,\n",
              "         -1.14727626e-03, -3.28906067e-02, -1.49553595e-03,\n",
              "         -2.82162777e-03, -7.60558620e-02, -1.55637471e-03,\n",
              "         -4.91528492e-03, -2.19545607e-02,  2.75564697e-02,\n",
              "         -1.25497794e-02, -1.68638136e-02, -2.07204279e-02,\n",
              "         -2.36812923e-02, -3.07043232e-02,  6.31876988e-03,\n",
              "          3.43244486e-02,  1.70262139e-02,  4.92697842e-02,\n",
              "          2.93082576e-02,  4.10187989e-03,  2.09337920e-02,\n",
              "          7.19857663e-02,  1.05966022e-03, -1.47689087e-02,\n",
              "         -3.47245783e-02, -2.16487832e-02, -9.95141827e-03,\n",
              "          1.29853487e-02, -5.48050972e-03, -7.70190209e-02,\n",
              "          1.12167513e-02, -1.51839443e-02, -1.83910392e-02,\n",
              "         -1.97323561e-02, -1.48972301e-02,  8.46249908e-02,\n",
              "          6.35140855e-03,  2.03219000e-02, -1.94084048e-02,\n",
              "         -1.08773485e-02, -4.57313657e-02, -4.48526070e-02,\n",
              "          2.56617926e-02,  1.93536896e-02,  1.00775696e-02,\n",
              "          7.18023628e-03, -3.55099514e-02, -4.55002636e-02,\n",
              "         -7.88334943e-03, -4.93443757e-02,  2.36826204e-02,\n",
              "          5.81833301e-03, -7.79057108e-03, -1.31063825e-02,\n",
              "          2.89645623e-02,  9.53624845e-02,  4.62271878e-03,\n",
              "         -2.28673667e-02, -3.00150272e-02,  8.50995071e-03,\n",
              "          2.95229964e-02, -2.00281832e-02, -3.06392740e-02,\n",
              "          3.70190083e-03,  5.17040044e-02,  3.78289409e-02,\n",
              "         -4.52865958e-02, -3.04144323e-02, -6.33255765e-02,\n",
              "         -1.21121779e-02, -2.26585940e-03,  4.00145315e-02,\n",
              "         -7.68749863e-02, -3.96612063e-02, -2.40458176e-02,\n",
              "         -1.22921094e-02, -3.65987513e-03, -5.63489683e-02,\n",
              "         -2.04586294e-02,  2.61900318e-03, -4.19872394e-03,\n",
              "          2.29546800e-02, -3.81762721e-02, -4.06912453e-02,\n",
              "          5.58966659e-02, -2.28307825e-02, -7.99906347e-03,\n",
              "         -6.71147089e-03,  2.39457283e-02, -2.71236263e-02,\n",
              "          3.32449190e-02, -3.31203314e-03, -1.45904701e-02,\n",
              "         -1.48993256e-02, -5.38930371e-02,  8.52978975e-03,\n",
              "          2.41371319e-02,  2.83823945e-02,  2.75515486e-02,\n",
              "         -9.44455899e-03,  2.91343611e-02,  7.87780806e-03,\n",
              "         -3.50229479e-02, -1.73738748e-02,  6.11178856e-03,\n",
              "         -5.17762974e-02,  4.22114553e-03, -7.85780549e-02,\n",
              "         -1.67391486e-02,  2.43430994e-02, -1.91075541e-02,\n",
              "          6.80573098e-03, -8.85819551e-03,  1.04752835e-02,\n",
              "          3.03049795e-02,  2.26538684e-02, -8.99459701e-03,\n",
              "          3.97454314e-02, -1.19835865e-02,  5.36519326e-02,\n",
              "         -1.73529275e-02,  1.60130672e-02,  5.74031807e-02,\n",
              "          1.70067605e-02, -4.71418053e-02, -1.67144754e-03,\n",
              "          5.65098748e-02,  2.57398672e-02,  4.74409908e-02,\n",
              "         -6.82199048e-03,  2.76359431e-02, -3.98197398e-02,\n",
              "         -7.07716541e-03,  5.33328727e-02, -2.15630159e-02,\n",
              "         -6.25305101e-02, -6.47531971e-02,  9.41584911e-03,\n",
              "          3.55411954e-02,  5.78559935e-02,  1.71727333e-02,\n",
              "         -1.82200577e-02,  9.01891442e-04, -3.21503207e-02,\n",
              "          3.91423702e-03,  3.67967710e-02,  2.71635167e-02,\n",
              "          1.97215788e-02,  2.11602226e-02,  4.15352061e-02,\n",
              "         -6.92324042e-02, -2.75356527e-02,  9.73042194e-03,\n",
              "         -7.08991960e-02,  9.29580908e-03, -1.97941475e-02,\n",
              "          2.92060953e-02,  4.80757952e-02,  1.80260055e-02,\n",
              "         -6.51646480e-02, -2.98081860e-02, -2.91780792e-02,\n",
              "          7.60703087e-02,  4.87935953e-02, -3.31642926e-02,\n",
              "          1.61458123e-02, -1.31451205e-04, -2.67255958e-02,\n",
              "         -6.42088661e-03, -1.48142735e-02,  2.20720638e-02,\n",
              "          2.81758467e-03, -2.31219199e-03, -1.48174623e-02,\n",
              "          4.40655202e-02, -9.12187621e-02,  6.04377761e-02,\n",
              "         -1.04248282e-02,  1.06799621e-02,  7.33398050e-02,\n",
              "         -1.46769052e-02, -1.51104974e-02, -1.87099688e-02,\n",
              "         -2.51277480e-02, -1.45520177e-02,  2.16571912e-02,\n",
              "          2.54967492e-02,  2.15571374e-02, -5.59970737e-03,\n",
              "         -7.36506842e-03,  1.23904524e-02, -1.86853316e-02,\n",
              "          8.60909838e-03, -2.25182343e-02, -9.64536238e-03,\n",
              "         -1.17721073e-02, -4.08401042e-02, -2.52085626e-02,\n",
              "          6.12639822e-03,  2.72095632e-02,  1.04894964e-02]]),\n",
              " 'documents': ['Operating the Climate Control System  Your Googlecar has a climate control system that allows you to adjust the temperature and airflow in the car. To operate the climate control system, use the buttons and knobs located on the center console.  Temperature: The temperature knob controls the temperature inside the car. Turn the knob clockwise to increase the temperature or counterclockwise to decrease the temperature. Airflow: The airflow knob controls the amount of airflow inside the car. Turn the knob clockwise to increase the airflow or counterclockwise to decrease the airflow. Fan speed: The fan speed knob controls the speed of the fan. Turn the knob clockwise to increase the fan speed or counterclockwise to decrease the fan speed. Mode: The mode button allows you to select the desired mode. The available modes are: Auto: The car will automatically adjust the temperature and airflow to maintain a comfortable level. Cool: The car will blow cool air into the car. Heat: The car will blow warm air into the car. Defrost: The car will blow warm air onto the windshield to defrost it.'],\n",
              " 'uris': None,\n",
              " 'data': None,\n",
              " 'metadatas': [None],\n",
              " 'included': [<IncludeEnum.embeddings: 'embeddings'>,\n",
              "  <IncludeEnum.documents: 'documents'>,\n",
              "  <IncludeEnum.metadatas: 'metadatas'>]}"
            ]
          },
          "metadata": {},
          "execution_count": 15
        }
      ],
      "execution_count": 15
    },
    {
      "cell_type": "markdown",
      "source": [
        "## Retrieval: Find relevant documents\n",
        "\n",
        "To search the Chroma database, call the `query` method. Note that you also switch to the `retrieval_query` mode of embedding generation.\n"
      ],
      "metadata": {
        "id": "Tu5zRErgsQ8u"
      }
    },
    {
      "cell_type": "code",
      "source": [
        "# Switch to query mode when generating embeddings.\n",
        "embed_fn.document_mode = False\n",
        "\n",
        "# Search the Chroma DB using the specified query.\n",
        "query = \"How do you use the touchscreen to play music?\"\n",
        "\n",
        "result = db.query(query_texts=[query], n_results=1)\n",
        "[all_passages] = result[\"documents\"]\n",
        "\n",
        "Markdown(all_passages[0])"
      ],
      "metadata": {
        "id": "gQdJMbTSLtKE",
        "trusted": true,
        "execution": {
          "iopub.status.busy": "2025-03-31T10:16:50.528639Z",
          "iopub.execute_input": "2025-03-31T10:16:50.529481Z",
          "iopub.status.idle": "2025-03-31T10:16:50.75471Z",
          "shell.execute_reply.started": "2025-03-31T10:16:50.529442Z",
          "shell.execute_reply": "2025-03-31T10:16:50.753363Z"
        },
        "outputId": "dfca8885-43b0-4237-efca-9d05f80d71b4",
        "colab": {
          "base_uri": "https://localhost:8080/",
          "height": 81
        }
      },
      "outputs": [
        {
          "output_type": "execute_result",
          "data": {
            "text/plain": [
              "<IPython.core.display.Markdown object>"
            ],
            "text/markdown": "Your Googlecar has a large touchscreen display that provides access to a variety of features, including navigation, entertainment, and climate control. To use the touchscreen display, simply touch the desired icon.  For example, you can touch the \"Navigation\" icon to get directions to your destination or touch the \"Music\" icon to play your favorite songs."
          },
          "metadata": {},
          "execution_count": 20
        }
      ],
      "execution_count": 20
    },
    {
      "cell_type": "markdown",
      "source": [
        "## Augmented generation: Answer the question\n",
        "\n",
        "Now that you have found a relevant passage from the set of documents (the *retrieval* step), you can now assemble a generation prompt to have the Gemini API *generate* a final answer. Note that in this example only a single passage was retrieved. In practice, especially when the size of your underlying data is large, you will want to retrieve more than one result and let the Gemini model determine what passages are relevant in answering the question. For this reason it's OK if some retrieved passages are not directly related to the question - this generation step should ignore them."
      ],
      "metadata": {
        "id": "s8PNRMpOQkm5"
      }
    },
    {
      "cell_type": "code",
      "source": [
        "query_oneline = query.replace(\"\\n\", \" \")\n",
        "\n",
        "# This prompt is where you can specify any guidance on tone, or what topics the model should stick to, or avoid.\n",
        "prompt = f\"\"\"You are a helpful and informative bot that answers questions using text from the reference passage included below.\n",
        "Be sure to respond in a complete sentence, being comprehensive, including all relevant background information.\n",
        "However, you are talking to a non-technical audience, so be sure to break down complicated concepts and\n",
        "strike a friendly and converstional tone. If the passage is irrelevant to the answer, you may ignore it.\n",
        "\n",
        "QUESTION: {query_oneline}\n",
        "\"\"\"\n",
        "\n",
        "# Add the retrieved documents to the prompt.\n",
        "for passage in all_passages:\n",
        "    passage_oneline = passage.replace(\"\\n\", \" \")\n",
        "    prompt += f\"PASSAGE: {passage_oneline}\\n\"\n",
        "\n",
        "print(prompt)"
      ],
      "metadata": {
        "id": "b6_Y-GOymaXu",
        "trusted": true,
        "execution": {
          "iopub.status.busy": "2025-03-31T10:16:50.756108Z",
          "iopub.execute_input": "2025-03-31T10:16:50.756448Z",
          "iopub.status.idle": "2025-03-31T10:16:50.764894Z",
          "shell.execute_reply.started": "2025-03-31T10:16:50.756418Z",
          "shell.execute_reply": "2025-03-31T10:16:50.763356Z"
        },
        "outputId": "95c4b61a-6164-4646-c19e-288e24246186",
        "colab": {
          "base_uri": "https://localhost:8080/"
        }
      },
      "outputs": [
        {
          "output_type": "stream",
          "name": "stdout",
          "text": [
            "You are a helpful and informative bot that answers questions using text from the reference passage included below.\n",
            "Be sure to respond in a complete sentence, being comprehensive, including all relevant background information.\n",
            "However, you are talking to a non-technical audience, so be sure to break down complicated concepts and\n",
            "strike a friendly and converstional tone. If the passage is irrelevant to the answer, you may ignore it.\n",
            "\n",
            "QUESTION: How do you use the touchscreen to play music?\n",
            "PASSAGE: Your Googlecar has a large touchscreen display that provides access to a variety of features, including navigation, entertainment, and climate control. To use the touchscreen display, simply touch the desired icon.  For example, you can touch the \"Navigation\" icon to get directions to your destination or touch the \"Music\" icon to play your favorite songs.\n",
            "\n"
          ]
        }
      ],
      "execution_count": 22
    },
    {
      "cell_type": "markdown",
      "source": [
        "Now use the `generate_content` method to to generate an answer to the question."
      ],
      "metadata": {
        "id": "VRy6yXzcPxLB"
      }
    },
    {
      "cell_type": "code",
      "source": [
        "answer = client.models.generate_content(\n",
        "    model=\"gemini-2.0-flash\",\n",
        "    contents=prompt)\n",
        "\n",
        "Markdown(answer.text)"
      ],
      "metadata": {
        "id": "EwfyxFM6Giy9",
        "trusted": true,
        "execution": {
          "iopub.status.busy": "2025-03-31T10:16:50.766357Z",
          "iopub.execute_input": "2025-03-31T10:16:50.766776Z",
          "iopub.status.idle": "2025-03-31T10:16:51.305502Z",
          "shell.execute_reply.started": "2025-03-31T10:16:50.76674Z",
          "shell.execute_reply": "2025-03-31T10:16:51.304106Z"
        },
        "outputId": "c1c45f4c-4ef0-4414-b1dd-0e6ba50d36c2",
        "colab": {
          "base_uri": "https://localhost:8080/",
          "height": 46
        }
      },
      "outputs": [
        {
          "output_type": "execute_result",
          "data": {
            "text/plain": [
              "<IPython.core.display.Markdown object>"
            ],
            "text/markdown": "To play music on your Googlecar, just touch the \"Music\" icon on the large touchscreen display.\n"
          },
          "metadata": {},
          "execution_count": 23
        }
      ],
      "execution_count": 23
    },
    {
      "cell_type": "markdown",
      "source": [
        "## Next steps\n",
        "\n",
        "Congrats on building a Retrieval-Augmented Generation app!\n",
        "\n",
        "To learn more about using embeddings in the Gemini API, check out the [Intro to embeddings](https://ai.google.dev/gemini-api/docs/embeddings) or to learn more fundamentals, study the [embeddings chapter](https://developers.google.com/machine-learning/crash-course/embeddings) of the Machine Learning Crash Course.\n",
        "\n",
        "For a hosted RAG system, check out the [Semantic Retrieval service](https://ai.google.dev/gemini-api/docs/semantic_retrieval) in the Gemini API. You can implement question-answering on your own documents in a single request, or host a database for even faster responses.\n",
        "\n",
        "*- [Mark McD](https://linktr.ee/markmcd)*"
      ],
      "metadata": {
        "id": "ThTbjAJ7eGP5"
      }
    }
  ]
}